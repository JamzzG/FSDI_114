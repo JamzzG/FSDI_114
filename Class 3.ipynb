{
 "cells": [
  {
   "cell_type": "code",
   "execution_count": 220,
   "id": "c9cd8fdd",
   "metadata": {},
   "outputs": [],
   "source": [
    "class Node:\n",
    "    def __init__(self, data):\n",
    "        self.data = data\n",
    "        self.above = None\n",
    "        \n",
    "class Stack:\n",
    "    def __init__(self):\n",
    "        self.base = None\n",
    "        \n",
    "    def push(self, item):\n",
    "        new_node = Node(item)\n",
    "        if not self.base:                 # if self.base == None\n",
    "            self.base = new_node\n",
    "        else:\n",
    "            current = self.base\n",
    "            while current.above:\n",
    "                current = current.above      #while current.above != None\n",
    "            current.above = new_node\n",
    "            \n",
    "    def pop(self):\n",
    "        current = self.base\n",
    "        if not current:\n",
    "            return current\n",
    "        prev = None\n",
    "        while current.above:\n",
    "            prev = current\n",
    "            current = current.above\n",
    "        target_data = current.data\n",
    "        \n",
    "        if prev:\n",
    "            prev.above = None\n",
    "        else:\n",
    "            self.base = None\n",
    "        return target_data\n",
    "        \n",
    "\n",
    "    def peek(self):\n",
    "        current = self.base\n",
    "        if not current:\n",
    "            return None\n",
    "        while current.above:\n",
    "            current = current.above\n",
    "        return (current.data)\n",
    "\n",
    "    \n",
    "    \n",
    "    def is_empty(self)\n",
    "#         current = self.base\n",
    "#         if not current:\n",
    "#             return \"This stack is empty\"\n",
    "#         else:\n",
    "#             return \"This stack is not empty\"\n",
    "            \n",
    "    \n",
    "    def size(self):\n",
    "        current = self.base\n",
    "        if not current:\n",
    "            count = 0\n",
    "        else:\n",
    "            count = 1\n",
    "            while current.above:\n",
    "                count += 1\n",
    "                current = current.above\n",
    "        return f\"The stack has {count} item(s) in it at this time.\"\n",
    "            \n",
    "            \n",
    "        "
   ]
  },
  {
   "cell_type": "code",
   "execution_count": 221,
   "id": "923fcbaf",
   "metadata": {},
   "outputs": [
    {
     "name": "stdout",
     "output_type": "stream",
     "text": [
      "Out: s\n",
      "Out: se\n",
      "Out: sem\n",
      "Out: sema\n",
      "Out: semaJ\n"
     ]
    },
    {
     "data": {
      "text/plain": [
       "'semaJ'"
      ]
     },
     "execution_count": 221,
     "metadata": {},
     "output_type": "execute_result"
    }
   ],
   "source": [
    "def invert_str(mystring):\n",
    "    stack = Stack()\n",
    "    for letter in mystring:\n",
    "        stack.push(letter)\n",
    "    out = \"\"  \n",
    "    is_empty = False\n",
    "    while not is_empty:\n",
    "        letter = stack.pop()\n",
    "        if not letter:\n",
    "            is_empty = True\n",
    "        else:\n",
    "            out += letter\n",
    "            print(\"Out: %s\" % out)\n",
    "         \n",
    "    return out\n",
    "\n",
    "invert_str(\"James\")\n",
    "\n"
   ]
  },
  {
   "cell_type": "code",
   "execution_count": 222,
   "id": "d68b3af2",
   "metadata": {},
   "outputs": [],
   "source": [
    "class Queue:\n",
    "    def __init__(self):\n",
    "        self.items = []\n",
    "    \n",
    "    def enqueue(self, item):\n",
    "        self.items.insert(0, item)\n",
    "        \n",
    "    def dequeue(self):\n",
    "        self.items.pop()\n",
    "    \n",
    "    # Helper methods\"\n",
    "    def peek(self):\n",
    "        return self.items[len(self.items)-1]\n",
    "    \n",
    "    def size(self):\n",
    "        return len(self.items)\n",
    "    \n",
    "    def is_empty(self):\n",
    "        return self.items == []"
   ]
  },
  {
   "cell_type": "code",
   "execution_count": 236,
   "id": "87939c21",
   "metadata": {
    "scrolled": true
   },
   "outputs": [],
   "source": [
    "stack=Stack()\n",
    "stack.push(\"item1\")\n",
    "stack.push(\"item2\")\n",
    "stack.push(\"item3\")\n",
    "real_peek = (\"item3\")\n",
    "test_peek = stack.peek()\n",
    "assert (test_peek)==(real_peek)\n"
   ]
  },
  {
   "cell_type": "code",
   "execution_count": 234,
   "id": "7b0561e8",
   "metadata": {},
   "outputs": [
    {
     "name": "stdout",
     "output_type": "stream",
     "text": [
      "This stack is empty\n",
      "This stack is not empty\n"
     ]
    }
   ],
   "source": [
    "stack=Stack()\n",
    "print (stack.is_empty())\n",
    "\n",
    "stack=Stack()\n",
    "stack.push(\"item1\")\n",
    "print (stack.is_empty())\n"
   ]
  },
  {
   "cell_type": "code",
   "execution_count": 225,
   "id": "4664207d",
   "metadata": {},
   "outputs": [
    {
     "name": "stdout",
     "output_type": "stream",
     "text": [
      "The stack has 6 items in it at this time.\n",
      "The stack has 0 items in it at this time.\n"
     ]
    }
   ],
   "source": [
    "    stack=Stack()\n",
    "    stack.push(\"item1\")\n",
    "    stack.push(\"item2\")\n",
    "    stack.push(\"item1\")\n",
    "    stack.push(\"item2\")\n",
    "    stack.push(\"item3\")\n",
    "    stack.push(\"item3\")\n",
    "    \n",
    "        \n",
    "    print (stack.size())\n",
    "    \n",
    "    stack=Stack()\n",
    "    print (stack.size())"
   ]
  },
  {
   "cell_type": "code",
   "execution_count": null,
   "id": "a70cf350",
   "metadata": {},
   "outputs": [],
   "source": []
  },
  {
   "cell_type": "code",
   "execution_count": null,
   "id": "cdd62d3e",
   "metadata": {},
   "outputs": [],
   "source": []
  },
  {
   "cell_type": "code",
   "execution_count": null,
   "id": "4c8abc57",
   "metadata": {},
   "outputs": [],
   "source": []
  },
  {
   "cell_type": "code",
   "execution_count": null,
   "id": "b88f52bf",
   "metadata": {},
   "outputs": [],
   "source": []
  }
 ],
 "metadata": {
  "kernelspec": {
   "display_name": "Python 3 (ipykernel)",
   "language": "python",
   "name": "python3"
  },
  "language_info": {
   "codemirror_mode": {
    "name": "ipython",
    "version": 3
   },
   "file_extension": ".py",
   "mimetype": "text/x-python",
   "name": "python",
   "nbconvert_exporter": "python",
   "pygments_lexer": "ipython3",
   "version": "3.10.6"
  }
 },
 "nbformat": 4,
 "nbformat_minor": 5
}
