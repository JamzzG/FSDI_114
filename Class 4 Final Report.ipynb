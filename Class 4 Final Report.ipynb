{
 "cells": [
  {
   "cell_type": "code",
   "execution_count": 1,
   "id": "df20f1b0",
   "metadata": {},
   "outputs": [
    {
     "name": "stdout",
     "output_type": "stream",
     "text": [
      "5\n"
     ]
    }
   ],
   "source": [
    "#Pass by value\n",
    "#int, float, bool, imaginarynumbers\n",
    "\n",
    "x = 5\n",
    "y =  x\n",
    "x = x +1\n",
    "print (y)"
   ]
  },
  {
   "cell_type": "code",
   "execution_count": null,
   "id": "fc4740f7",
   "metadata": {},
   "outputs": [],
   "source": []
  },
  {
   "cell_type": "code",
   "execution_count": 2,
   "id": "52cb54b4",
   "metadata": {},
   "outputs": [
    {
     "name": "stdout",
     "output_type": "stream",
     "text": [
      "[1, 2, 3, 4, 5, 6, 7]\n",
      "140042911496512\n",
      "140042911496512\n"
     ]
    }
   ],
   "source": [
    "#pass by reference\n",
    "#Python lists (example):\n",
    "x = [1, 2, 3, 4, 5]\n",
    "y = x\n",
    "x.append(6)\n",
    "y.append(7)\n",
    "print (y)\n",
    "print (id(x))\n",
    "print (id(x))"
   ]
  },
  {
   "cell_type": "code",
   "execution_count": 10,
   "id": "733e7420",
   "metadata": {},
   "outputs": [],
   "source": [
    "class SinglyLinkedList:\n",
    "    class __Node:  #double underscore is to reflect that this class only works within SinglyLinkedList\n",
    "        def __init__(self,data):\n",
    "            self.data = data\n",
    "            self.next = None\n",
    "    \n",
    "    def __init__(self): #constructor\n",
    "        self.head = None\n",
    "        \n",
    "    def append(self, value):\n",
    "        new_node = self.__Node(value)\n",
    "        if not self.head:\n",
    "            self.head = new_node\n",
    "        else: \n",
    "            current = self.head\n",
    "            while current.next:\n",
    "                current = current.next\n",
    "            current.next = new_node\n",
    "\n",
    "            \n",
    "    def __str__(self):\n",
    "        out = \"[\"\n",
    "        if self.head:\n",
    "            out += \"%s\" % self.head.data  #\"%s\" % is formatting as a string\n",
    "        current = self.head\n",
    "        while current:\n",
    "            current = current.next\n",
    "            if current:\n",
    "                out += \", %s\" % current.data\n",
    "        out += \"]\"\n",
    "        return out\n",
    "    \n",
    "    def insert(self, index, value):\n",
    "        #inserts an object before an index:  What about index [0]?\n",
    "        pass\n",
    "        \n",
    "    def remove(self, value):\n",
    "        pass\n"
   ]
  },
  {
   "cell_type": "code",
   "execution_count": 11,
   "id": "d7619a34",
   "metadata": {},
   "outputs": [
    {
     "name": "stdout",
     "output_type": "stream",
     "text": [
      "[1, 2, 3, 4]\n"
     ]
    }
   ],
   "source": [
    "sll = SinglyLinkedList()\n",
    "\n",
    "for number in range(1,5):\n",
    "    sll.append(number)\n",
    "    \n",
    "print (sll)\n"
   ]
  },
  {
   "cell_type": "code",
   "execution_count": null,
   "id": "deb3a3ef",
   "metadata": {},
   "outputs": [],
   "source": []
  }
 ],
 "metadata": {
  "kernelspec": {
   "display_name": "Python 3 (ipykernel)",
   "language": "python",
   "name": "python3"
  },
  "language_info": {
   "codemirror_mode": {
    "name": "ipython",
    "version": 3
   },
   "file_extension": ".py",
   "mimetype": "text/x-python",
   "name": "python",
   "nbconvert_exporter": "python",
   "pygments_lexer": "ipython3",
   "version": "3.10.6"
  }
 },
 "nbformat": 4,
 "nbformat_minor": 5
}
