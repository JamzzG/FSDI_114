{
 "cells": [
  {
   "cell_type": "code",
   "execution_count": 1,
   "id": "644d58af",
   "metadata": {},
   "outputs": [],
   "source": [
    "def are_anagrams(string_a, string_b):\n",
    "    string_a = string_a.replace (\" \",\"\")\n",
    "    string_b = string_b.replace (\" \",\"\")\n",
    "    string_a = string_a.lower ()\n",
    "    string_b = string_b.lower ()\n",
    "    if len(string_a) != len(string_b):  #O(1) or constant time\n",
    "        return False\n",
    "    times_a = dict()                    #O(n) or linear time\n",
    "    times_b = dict()\n",
    "    for i in range(len(string_a)):\n",
    "        if string_a[i] not in times_a.keys():\n",
    "            times_a[string_a[i]] = 1\n",
    "        else:\n",
    "            times_a[string_a[i]] += 1\n",
    "        if string_b[i] not in times_a.keys():\n",
    "            times_b[string_a[i]] = 1\n",
    "        else:\n",
    "            times_b[string_a[i]] += 1\n",
    "    return times_a == times_b\n",
    "\n",
    "# for dictionaries position is irrelevant.  Idempotence is the property of certain operations in mathematics\n",
    "# and computer science whereby they can be applied multiple times without changing the result."
   ]
  },
  {
   "cell_type": "code",
   "execution_count": 2,
   "id": "2b04a13d",
   "metadata": {},
   "outputs": [],
   "source": [
    "#Fast implementation\n",
    "\n",
    "class Stack:\n",
    "    def __init__(self):\n",
    "        self.items = []\n",
    "        \n",
    "    def push(self, item):\n",
    "        self.items.append(item)\n",
    "        \n",
    "    def pop(self):\n",
    "        return self.items.pop()\n",
    "    \n",
    "    #helper methods:\n",
    "    \n",
    "    def size(self):\n",
    "        return len(self.items)\n",
    "    \n",
    "    def peek(self):\n",
    "        return self.items[len(self.items)-1]\n",
    "    \n",
    "    def is_empty(self):\n",
    "        return self.items == []"
   ]
  },
  {
   "cell_type": "markdown",
   "id": "358ca719",
   "metadata": {},
   "source": [
    "# Problem 2\n",
    "### Use a stack to invert a string\n",
    "Given a string such as \"James\" create a function that inverts it, for example it should return \"semaj\".\n",
    "\n",
    "\n",
    "'''\n",
    "example: \n",
    "cars and srac\n",
    "hello and olleh\n",
    "'''"
   ]
  },
  {
   "cell_type": "code",
   "execution_count": 6,
   "id": "ecb90e96",
   "metadata": {},
   "outputs": [
    {
     "data": {
      "text/plain": [
       "'.CRMP eht eht gnidrocca sdrawkcab deyalp nehw segassem cinomed neddih evah smubla seltaeB'"
      ]
     },
     "execution_count": 6,
     "metadata": {},
     "output_type": "execute_result"
    }
   ],
   "source": [
    "\n",
    "def invert_str(mystring):\n",
    "    stack = Stack()\n",
    "    for letter in mystring:\n",
    "        stack.push(letter)\n",
    "    out = \"\"\n",
    "    while stack.is_empty() != True:\n",
    "        out += stack.pop()\n",
    "    return out\n",
    "\n",
    "invert_str(\"Beatles albums have hidden demonic messages when played backwards according the the PMRC.\")"
   ]
  },
  {
   "cell_type": "code",
   "execution_count": null,
   "id": "75cdf2b0",
   "metadata": {},
   "outputs": [],
   "source": []
  }
 ],
 "metadata": {
  "kernelspec": {
   "display_name": "Python 3 (ipykernel)",
   "language": "python",
   "name": "python3"
  },
  "language_info": {
   "codemirror_mode": {
    "name": "ipython",
    "version": 3
   },
   "file_extension": ".py",
   "mimetype": "text/x-python",
   "name": "python",
   "nbconvert_exporter": "python",
   "pygments_lexer": "ipython3",
   "version": "3.10.6"
  }
 },
 "nbformat": 4,
 "nbformat_minor": 5
}
